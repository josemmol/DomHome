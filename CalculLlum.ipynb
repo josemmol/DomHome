{
 "cells": [
  {
   "cell_type": "code",
   "execution_count": 1,
   "metadata": {},
   "outputs": [
    {
     "name": "stderr",
     "output_type": "stream",
     "text": [
      "23/06/20 22:56:58 WARN NativeCodeLoader: Unable to load native-hadoop library for your platform... using builtin-java classes where applicable\n",
      "Using Spark's default log4j profile: org/apache/spark/log4j-defaults.properties\n",
      "Setting default log level to \"WARN\".\n",
      "To adjust logging level use sc.setLogLevel(newLevel). For SparkR, use setLogLevel(newLevel).\n"
     ]
    },
    {
     "data": {
      "text/html": [
       "\n",
       "            <div>\n",
       "                <p><b>SparkSession - in-memory</b></p>\n",
       "                \n",
       "        <div>\n",
       "            <p><b>SparkContext</b></p>\n",
       "\n",
       "            <p><a href=\"http://3a7b5740af68:4040\">Spark UI</a></p>\n",
       "\n",
       "            <dl>\n",
       "              <dt>Version</dt>\n",
       "                <dd><code>v3.1.2</code></dd>\n",
       "              <dt>Master</dt>\n",
       "                <dd><code>spark://spark-master:7077</code></dd>\n",
       "              <dt>AppName</dt>\n",
       "                <dd><code>Cluster Spark</code></dd>\n",
       "            </dl>\n",
       "        </div>\n",
       "        \n",
       "            </div>\n",
       "        "
      ],
      "text/plain": [
       "<pyspark.sql.session.SparkSession at 0x7f5f95ef2d00>"
      ]
     },
     "execution_count": 1,
     "metadata": {},
     "output_type": "execute_result"
    }
   ],
   "source": [
    "# Importar SparkSession\n",
    "from pyspark.sql import SparkSession\n",
    "# Establir les propietats de l'SparkSession:\n",
    "# - URL de connexió\n",
    "# local\n",
    "#url = \"local\"\n",
    "# al cluster\n",
    "url = \"spark://spark-master:7077\"\n",
    "\n",
    "# - Nom de l'aplicació\n",
    "nom = \"Cluster Spark\"\n",
    "#conf = SparkConf().setMaster(url).setAppName(nom).set(\"spark.executor.memory\", \"512m\")\n",
    "\n",
    "# Iniciar un clúster de Spark (pot trigar uns minuts)\n",
    "# Comprovar si ja existeix aquest clúster i en el cas contrari crear un nou \n",
    "spark = SparkSession \\\n",
    "    .builder \\\n",
    "    .master(url) \\\n",
    "    .appName(nom) \\\n",
    "    .config(\"spark.executor.memory\", \"512m\") \\\n",
    "    .getOrCreate()\n",
    "\n",
    "# Eliminam els warnings que puguin aparèixer por pantalla\n",
    "spark.sparkContext.setLogLevel(\"ERROR\")\n",
    "spark.sparkContext.setLogLevel(\"WARN\")\n",
    "\n",
    "# Mostrar l'spark session i el seu spark context del clúster creat\n",
    "spark"
   ]
  },
  {
   "cell_type": "code",
   "execution_count": 118,
   "metadata": {},
   "outputs": [
    {
     "name": "stdout",
     "output_type": "stream",
     "text": [
      "+--------------------+----------+----+------+------+---------------+-------------+\n",
      "|                CUPS|     Fecha|Hora|AE_kWh|AS_KWh|AE_AUTOCONS_kWh|REAL/ESTIMADO|\n",
      "+--------------------+----------+----+------+------+---------------+-------------+\n",
      "|ES003150020273400...|01/06/2022|   1| 0,172|  null|           null|            R|\n",
      "|ES003150020273400...|01/06/2022|   2| 0,149|  null|           null|            R|\n",
      "|ES003150020273400...|01/06/2022|   3| 0,159|  null|           null|            R|\n",
      "|ES003150020273400...|01/06/2022|   4| 0,146|  null|           null|            R|\n",
      "|ES003150020273400...|01/06/2022|   5| 0,135|  null|           null|            R|\n",
      "|ES003150020273400...|01/06/2022|   6| 0,143|  null|           null|            R|\n",
      "|ES003150020273400...|01/06/2022|   7| 0,143|  null|           null|            R|\n",
      "|ES003150020273400...|01/06/2022|   8| 0,181|  null|           null|            R|\n",
      "|ES003150020273400...|01/06/2022|   9| 0,135|  null|           null|            R|\n",
      "|ES003150020273400...|01/06/2022|  10| 0,119|  null|           null|            R|\n",
      "|ES003150020273400...|01/06/2022|  11| 0,073|  null|           null|            R|\n",
      "|ES003150020273400...|01/06/2022|  12| 0,123|  null|           null|            R|\n",
      "|ES003150020273400...|01/06/2022|  13| 0,139|  null|           null|            R|\n",
      "|ES003150020273400...|01/06/2022|  14| 0,181|  null|           null|            R|\n",
      "|ES003150020273400...|01/06/2022|  15| 0,196|  null|           null|            R|\n",
      "|ES003150020273400...|01/06/2022|  16| 0,586|  null|           null|            R|\n",
      "|ES003150020273400...|01/06/2022|  17| 0,398|  null|           null|            R|\n",
      "|ES003150020273400...|01/06/2022|  18| 0,254|  null|           null|            R|\n",
      "|ES003150020273400...|01/06/2022|  19|  0,26|  null|           null|            R|\n",
      "|ES003150020273400...|01/06/2022|  20|  0,27|  null|           null|            R|\n",
      "+--------------------+----------+----+------+------+---------------+-------------+\n",
      "only showing top 20 rows\n",
      "\n"
     ]
    }
   ],
   "source": [
    "url = \"https://raw.githubusercontent.com/josemmol/DomHome/master/Data/ES0031500202734001QW0F_20220601_20230531_Horario.csv\"\n",
    "local_path = \"ES0031500202734001QW0F_20220601_20230531_Horario.csv\"\n",
    "import wget\n",
    "\n",
    "#\n",
    "wget.download(url, local_path)\n",
    "\n",
    "df = spark.read.csv(local_path, header=True, inferSchema= True, sep= ';')\n",
    "df.show()"
   ]
  },
  {
   "cell_type": "code",
   "execution_count": 116,
   "metadata": {},
   "outputs": [
    {
     "name": "stdout",
     "output_type": "stream",
     "text": [
      "-rw-r--r-- 1 root root 416330 Jun 21 00:05 'ES0031500202734001QW0F_20220601_20230531_Horario (1).csv'\n",
      "-rw-r--r-- 1 root root 416330 Jun 21 00:04  ES0031500202734001QW0F_20220601_20230531_Horario.csv\n"
     ]
    }
   ],
   "source": [
    "!ls -la ES*"
   ]
  },
  {
   "cell_type": "code",
   "execution_count": 111,
   "metadata": {},
   "outputs": [],
   "source": [
    "!rm  ES*"
   ]
  },
  {
   "cell_type": "code",
   "execution_count": 117,
   "metadata": {},
   "outputs": [
    {
     "name": "stdout",
     "output_type": "stream",
     "text": [
      "cat: /tmp/ES0031500202734001QW0F_20220601_20230531_Horario.csv: No such file or directory\n"
     ]
    }
   ],
   "source": [
    "!cat /tmp/ES0031500202734001QW0F_20220601_20230531_Horario.csv"
   ]
  }
 ],
 "metadata": {
  "kernelspec": {
   "display_name": "Python 3 (ipykernel)",
   "language": "python",
   "name": "python3"
  },
  "language_info": {
   "codemirror_mode": {
    "name": "ipython",
    "version": 3
   },
   "file_extension": ".py",
   "mimetype": "text/x-python",
   "name": "python",
   "nbconvert_exporter": "python",
   "pygments_lexer": "ipython3",
   "version": "3.9.2"
  },
  "orig_nbformat": 4
 },
 "nbformat": 4,
 "nbformat_minor": 2
}
