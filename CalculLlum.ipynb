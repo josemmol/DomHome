{
 "cells": [
  {
   "cell_type": "code",
   "execution_count": 2,
   "metadata": {},
   "outputs": [
    {
     "data": {
      "text/html": [
       "\n",
       "            <div>\n",
       "                <p><b>SparkSession - in-memory</b></p>\n",
       "                \n",
       "        <div>\n",
       "            <p><b>SparkContext</b></p>\n",
       "\n",
       "            <p><a href=\"http://3a7b5740af68:4040\">Spark UI</a></p>\n",
       "\n",
       "            <dl>\n",
       "              <dt>Version</dt>\n",
       "                <dd><code>v3.1.2</code></dd>\n",
       "              <dt>Master</dt>\n",
       "                <dd><code>local</code></dd>\n",
       "              <dt>AppName</dt>\n",
       "                <dd><code>Cluster Spark</code></dd>\n",
       "            </dl>\n",
       "        </div>\n",
       "        \n",
       "            </div>\n",
       "        "
      ],
      "text/plain": [
       "<pyspark.sql.session.SparkSession at 0x7f0a2cee6580>"
      ]
     },
     "execution_count": 2,
     "metadata": {},
     "output_type": "execute_result"
    }
   ],
   "source": [
    "# Importar SparkSession\n",
    "from pyspark.sql import SparkSession\n",
    "# Establir les propietats de l'SparkSession:\n",
    "# - URL de connexió\n",
    "# local\n",
    "#url = \"local\"\n",
    "# al cluster\n",
    "url = \"spark://spark-master:7077\"\n",
    "\n",
    "# - Nom de l'aplicació\n",
    "nom = \"Cluster Spark\"\n",
    "#conf = SparkConf().setMaster(url).setAppName(nom).set(\"spark.executor.memory\", \"512m\")\n",
    "\n",
    "# Iniciar un clúster de Spark (pot trigar uns minuts)\n",
    "# Comprovar si ja existeix aquest clúster i en el cas contrari crear un nou \n",
    "spark = SparkSession \\\n",
    "    .builder \\\n",
    "    .master(url) \\\n",
    "    .appName(nom) \\\n",
    "    .config(\"spark.executor.memory\", \"512m\") \\\n",
    "    .getOrCreate()\n",
    "\n",
    "# Eliminam els warnings que puguin aparèixer por pantalla\n",
    "spark.sparkContext.setLogLevel(\"ERROR\")\n",
    "spark.sparkContext.setLogLevel(\"WARN\")\n",
    "\n",
    "# Mostrar l'spark session i el seu spark context del clúster creat\n",
    "spark"
   ]
  },
  {
   "cell_type": "code",
   "execution_count": 5,
   "metadata": {},
   "outputs": [
    {
     "name": "stderr",
     "output_type": "stream",
     "text": [
      "23/06/18 21:31:09 WARN SparkContext: The path https://raw.githubusercontent.com/josemmol/DomHome/master/Data/ES0031500202734001QW0F_20220601_20230531_Horario.csv has been added already. Overwriting of added paths is not supported in the current version.\n",
      "                                                                                \r"
     ]
    },
    {
     "name": "stdout",
     "output_type": "stream",
     "text": [
      "+-----------------------------------------------------------+\n",
      "|CUPS;Fecha;Hora;AE_kWh;AS_KWh;AE_AUTOCONS_kWh;REAL/ESTIMADO|\n",
      "+-----------------------------------------------------------+\n",
      "|                                       ES003150020273400...|\n",
      "|                                       ES003150020273400...|\n",
      "|                                       ES003150020273400...|\n",
      "|                                       ES003150020273400...|\n",
      "|                                       ES003150020273400...|\n",
      "|                                       ES003150020273400...|\n",
      "|                                       ES003150020273400...|\n",
      "|                                       ES003150020273400...|\n",
      "|                                       ES003150020273400...|\n",
      "|                                       ES003150020273400...|\n",
      "|                                       ES003150020273400...|\n",
      "|                                       ES003150020273400...|\n",
      "|                                       ES003150020273400...|\n",
      "|                                       ES003150020273400...|\n",
      "|                                       ES003150020273400...|\n",
      "|                                       ES003150020273400...|\n",
      "|                                       ES003150020273400...|\n",
      "|                                       ES003150020273400...|\n",
      "|                                       ES003150020273400...|\n",
      "|                                       ES003150020273400...|\n",
      "+-----------------------------------------------------------+\n",
      "only showing top 20 rows\n",
      "\n"
     ]
    }
   ],
   "source": [
    "url = \"https://raw.githubusercontent.com/josemmol/DomHome/master/Data/ES0031500202734001QW0F_20220601_20230531_Horario.csv\"\n",
    "from pyspark import SparkFiles\n",
    "spark.sparkContext.addFile(url)\n",
    "\n",
    "df = spark.read.csv(\"file://\"+SparkFiles.get(\"ES0031500202734001QW0F_20220601_20230531_Horario.csv\"), header=True, inferSchema= True)\n",
    "df.show()"
   ]
  }
 ],
 "metadata": {
  "kernelspec": {
   "display_name": "Python 3 (ipykernel)",
   "language": "python",
   "name": "python3"
  },
  "language_info": {
   "codemirror_mode": {
    "name": "ipython",
    "version": 3
   },
   "file_extension": ".py",
   "mimetype": "text/x-python",
   "name": "python",
   "nbconvert_exporter": "python",
   "pygments_lexer": "ipython3",
   "version": "3.9.2"
  },
  "orig_nbformat": 4
 },
 "nbformat": 4,
 "nbformat_minor": 2
}
